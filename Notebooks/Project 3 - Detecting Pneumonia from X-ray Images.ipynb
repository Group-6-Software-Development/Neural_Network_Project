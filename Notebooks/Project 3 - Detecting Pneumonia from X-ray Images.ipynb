{
 "cells": [
  {
   "cell_type": "markdown",
   "id": "bc85433b11115c24",
   "metadata": {},
   "source": [
    "# Project 3 - Detecting Pneumonia from X-ray Images"
   ]
  },
  {
   "cell_type": "code",
   "execution_count": null,
   "id": "initial_id",
   "metadata": {
    "collapsed": true
   },
   "outputs": [],
   "source": [
    "Letsgo ez course points we are ready to go for the next year "
   ]
  }
 ],
 "metadata": {
  "kernelspec": {
   "display_name": "Python 3",
   "language": "python",
   "name": "python3"
  },
  "language_info": {
   "codemirror_mode": {
    "name": "ipython",
    "version": 2
   },
   "file_extension": ".py",
   "mimetype": "text/x-python",
   "name": "python",
   "nbconvert_exporter": "python",
   "pygments_lexer": "ipython2",
   "version": "2.7.6"
  }
 },
 "nbformat": 4,
 "nbformat_minor": 5
}
