{
 "cells": [
  {
   "cell_type": "markdown",
   "metadata": {},
   "source": "# Project 2 - Introduction to the Transformer Architecture"
  },
  {
   "metadata": {},
   "cell_type": "code",
   "outputs": [],
   "execution_count": null,
   "source": ""
  }
 ],
 "metadata": {
  "language_info": {
   "name": "python"
  }
 },
 "nbformat": 4,
 "nbformat_minor": 2
}
