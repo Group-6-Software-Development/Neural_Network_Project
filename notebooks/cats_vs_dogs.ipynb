{
 "cells": [
  {
   "metadata": {},
   "cell_type": "markdown",
   "source": [
    "# Cats vs dogs training convolutional \n",
    "\n",
    "File preparation can be found under scripts' folder.\n",
    "\n",
    "#### Identifying and discerning between dogs and cats\n",
    "This task was originally introduced by kaggle as a competition in 2013 as a computer image detection problem.\n",
    "We will be using the same dataset to get familiar with convolutional networks and computer image detection.\n"
   ],
   "id": "e07250b14e2315a0"
  },
  {
   "cell_type": "code",
   "id": "initial_id",
   "metadata": {
    "collapsed": true,
    "ExecuteTime": {
     "end_time": "2024-10-24T08:37:56.869971Z",
     "start_time": "2024-10-24T08:37:26.412205Z"
    }
   },
   "source": "",
   "outputs": [],
   "execution_count": 10
  }
 ],
 "metadata": {
  "kernelspec": {
   "display_name": "Python 3",
   "language": "python",
   "name": "python3"
  },
  "language_info": {
   "codemirror_mode": {
    "name": "ipython",
    "version": 2
   },
   "file_extension": ".py",
   "mimetype": "text/x-python",
   "name": "python",
   "nbconvert_exporter": "python",
   "pygments_lexer": "ipython2",
   "version": "2.7.6"
  }
 },
 "nbformat": 4,
 "nbformat_minor": 5
}
